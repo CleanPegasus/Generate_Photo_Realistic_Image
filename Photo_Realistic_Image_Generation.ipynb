{
  "nbformat": 4,
  "nbformat_minor": 0,
  "metadata": {
    "colab": {
      "name": "Photo_Realistic_Image_Generation.ipynb",
      "version": "0.3.2",
      "provenance": []
    },
    "kernelspec": {
      "name": "python3",
      "display_name": "Python 3"
    },
    "accelerator": "GPU"
  },
  "cells": [
    {
      "cell_type": "code",
      "metadata": {
        "id": "ey7lJv5SmnCd",
        "colab_type": "code",
        "colab": {}
      },
      "source": [
        "from google.colab import files\n",
        "files.upload()"
      ],
      "execution_count": 0,
      "outputs": []
    },
    {
      "cell_type": "code",
      "metadata": {
        "id": "schXN3HsnKoz",
        "colab_type": "code",
        "colab": {}
      },
      "source": [
        "!pip install -q kaggle"
      ],
      "execution_count": 0,
      "outputs": []
    },
    {
      "cell_type": "code",
      "metadata": {
        "id": "GmE1nwSqnUF0",
        "colab_type": "code",
        "colab": {}
      },
      "source": [
        "auth.authenticate_user()\n",
        "gauth = GoogleAuth()\n",
        "gauth.credentials = GoogleCredentials.get_application_default()\n",
        "drive = GoogleDrive(gauth)"
      ],
      "execution_count": 0,
      "outputs": []
    },
    {
      "cell_type": "code",
      "metadata": {
        "id": "b_ELV6B9nWbE",
        "colab_type": "code",
        "colab": {}
      },
      "source": [
        "!mkdir -p ~/.kaggle"
      ],
      "execution_count": 0,
      "outputs": []
    },
    {
      "cell_type": "code",
      "metadata": {
        "id": "4e1K7NqIovqB",
        "colab_type": "code",
        "colab": {}
      },
      "source": [
        "cp kaggle.json ~/.kaggle/"
      ],
      "execution_count": 0,
      "outputs": []
    },
    {
      "cell_type": "code",
      "metadata": {
        "id": "7UyQ1TxGlR8-",
        "colab_type": "code",
        "colab": {
          "base_uri": "https://localhost:8080/",
          "height": 85
        },
        "outputId": "95829bac-42c6-44b7-e7ee-c37f45bd019b"
      },
      "source": [
        "!kaggle datasets download -d jessicali9530/celeba-dataset"
      ],
      "execution_count": 8,
      "outputs": [
        {
          "output_type": "stream",
          "text": [
            "Warning: Your Kaggle API key is readable by other users on this system! To fix this, you can run 'chmod 600 /root/.kaggle/kaggle.json'\n",
            "Downloading celeba-dataset.zip to /content\n",
            " 99% 1.21G/1.21G [00:11<00:00, 156MB/s]\n",
            "100% 1.21G/1.21G [00:11<00:00, 111MB/s]\n"
          ],
          "name": "stdout"
        }
      ]
    },
    {
      "cell_type": "code",
      "metadata": {
        "id": "hcdTRGs0lZCe",
        "colab_type": "code",
        "colab": {
          "base_uri": "https://localhost:8080/",
          "height": 119
        },
        "outputId": "a490c564-ca37-4689-c4b8-04e17acd7402"
      },
      "source": [
        "!unzip celeba-dataset.zip"
      ],
      "execution_count": 9,
      "outputs": [
        {
          "output_type": "stream",
          "text": [
            "Archive:  celeba-dataset.zip\n",
            "  inflating: list_attr_celeba.csv    \n",
            "  inflating: img_align_celeba.zip    \n",
            "  inflating: list_landmarks_align_celeba.csv  \n",
            "  inflating: list_bbox_celeba.csv    \n",
            "  inflating: list_eval_partition.csv  \n"
          ],
          "name": "stdout"
        }
      ]
    },
    {
      "cell_type": "code",
      "metadata": {
        "id": "Y1kzAIfYldUP",
        "colab_type": "code",
        "colab": {
          "base_uri": "https://localhost:8080/",
          "height": 68
        },
        "outputId": "cbde1858-d274-4aaf-edd2-3c14de2fcaef"
      },
      "source": [
        "ls"
      ],
      "execution_count": 10,
      "outputs": [
        {
          "output_type": "stream",
          "text": [
            "adc.json              kaggle.json           list_eval_partition.csv\n",
            "celeba-dataset.zip    list_attr_celeba.csv  list_landmarks_align_celeba.csv\n",
            "img_align_celeba.zip  list_bbox_celeba.csv  \u001b[0m\u001b[01;34msample_data\u001b[0m/\n"
          ],
          "name": "stdout"
        }
      ]
    },
    {
      "cell_type": "code",
      "metadata": {
        "id": "-mN9zwbElqIq",
        "colab_type": "code",
        "colab": {}
      },
      "source": [
        "!unzip img_align_celeba.zip"
      ],
      "execution_count": 0,
      "outputs": []
    },
    {
      "cell_type": "code",
      "metadata": {
        "id": "kfqBIdrJl3TC",
        "colab_type": "code",
        "colab": {}
      },
      "source": [
        ""
      ],
      "execution_count": 0,
      "outputs": []
    },
    {
      "cell_type": "code",
      "metadata": {
        "id": "GdKPz7ONoIix",
        "colab_type": "code",
        "colab": {}
      },
      "source": [
        "import glob\n",
        "import os\n",
        "import numpy as np\n",
        "import matplotlib.pyplot as plt\n",
        "\n",
        "import tensorflow as tf\n",
        "from keras import Input\n",
        "from keras.applications import VGG19\n",
        "from keras.callbacks import TensorBoard\n",
        "from keras.layers import BatchNormalization, Activation, LeakyReLU, Add, Dense, PReLU, Flatten\n",
        "from keras.layers.convolutional import Conv2D, UpSampling2D\n",
        "from keras.models import Model\n",
        "from keras.optimizers import Adam\n",
        "from keras.preprocessing.image import img_to_array, load_img\n"
      ],
      "execution_count": 0,
      "outputs": []
    },
    {
      "cell_type": "code",
      "metadata": {
        "id": "BYzk684YoAsW",
        "colab_type": "code",
        "colab": {}
      },
      "source": [
        "def residual_block(x):\n",
        "  \n",
        "  res = Conv2D(filters = 64, kernel_size = 3, strides = 1, padding = \"same\")(x)\n",
        "  res = Activation(activation = \"relu\")(res)\n",
        "  res = BatchNormalization(momentum = 0.8)(res)\n",
        "  \n",
        "  res = Conv2D(filters = 64, kernel_size = 3, strides = 1, padding = \"same\")(x)\n",
        "  res = BatchNormalization(momentum = 0.8)(res)\n",
        "  \n",
        "  res = Add()([res, x])\n",
        "  \n",
        "  return res"
      ],
      "execution_count": 0,
      "outputs": []
    },
    {
      "cell_type": "code",
      "metadata": {
        "id": "sFrdYoFprRQ4",
        "colab_type": "code",
        "colab": {}
      },
      "source": [
        "def build_gen():\n",
        "  \n",
        "  res_blocks = 16\n",
        "  input_shape = (64, 64, 3)\n",
        "  \n",
        "  input_layer = Input(shape = input_shape)\n",
        "  \n",
        "  gen1 = Conv2D(filters = 64, kernel_size = 9, strides = 1, padding = 'same', activation = 'relu')(input_layer)\n",
        "  \n",
        "  res = residual_block(gen1)\n",
        "  for i in range(res_block - 1):\n",
        "    res = residual_block(res)\n",
        "    \n",
        "  gen2 = Conv2D(filters = 64, kernel_size = 3, strides = 1, padding = 'same')(res)\n",
        "  gen2 = BatchNormalization(momentum = 0.8)(gen2)\n",
        "  \n",
        "  gen3 = Add()([gen2, gen1])\n",
        "  \n",
        "  gen4 = UpSampling2D(size = (2, 2))(gen3)\n",
        "  gen4 = Conv2D(filters = 256, kernel_size = 3, strides = 1, padding = \"same\")(gen4)\n",
        "  gen4 = Activation('relu')(gen4)\n",
        "  \n",
        "  gen5 = UpSampling2D(size = (2, 2))(gen4)\n",
        "  gen5 = Conv2D(filters = 256, kernel_size = 3, strides = 1, padding = \"same\")(gen5)\n",
        "  gen5 = Activation('relu')(gen5)\n",
        "  \n",
        "  gen6 = Conv2D(filters = 3, kernel_size = 9, strides = 1, padding = \"same\")(gen5)\n",
        "  output = Activation('tanh')(gen6)\n",
        "  \n",
        "  model = Model(inputs = [input_layer], outputs = [output], name = 'generator')\n",
        "  \n",
        "  return model"
      ],
      "execution_count": 0,
      "outputs": []
    },
    {
      "cell_type": "code",
      "metadata": {
        "id": "aO5P4_Z9t7Uz",
        "colab_type": "code",
        "colab": {}
      },
      "source": [
        ""
      ],
      "execution_count": 0,
      "outputs": []
    }
  ]
}